{
 "cells": [
  {
   "cell_type": "markdown",
   "metadata": {},
   "source": [
    "# CrunchieMunchies\n",
    "\n",
    "You work in marketing for a food company <b>myCorps</b>, which is developing a new kind of tasty, wholesome cereal called <b>CrunchieMunchies</b>. \n",
    "\n",
    "You want to demonstrate to consumers how healthy your cereal is in comparison to other leading brands, so you’ve dug up nutritional data on several different competitors.\n",
    "\n",
    "Your task is to use <em>NumPy statistical calculations</em> to analyze this data and prove that your <b>CrunchieMunchies</b> is the healthiest choice for consumers.\n",
    "\n",
    "\n",
    "\n",
    "\n"
   ]
  },
  {
   "cell_type": "markdown",
   "metadata": {},
   "source": [
    "# Task STEPS\n"
   ]
  },
  {
   "cell_type": "markdown",
   "metadata": {},
   "source": [
    "1.First, import numpy."
   ]
  },
  {
   "cell_type": "code",
   "execution_count": 1,
   "metadata": {},
   "outputs": [],
   "source": [
    "# your code goes here\n",
    "\n",
    "import numpy as np"
   ]
  },
  {
   "cell_type": "markdown",
   "metadata": {},
   "source": [
    "2.Look over the <b><em>cereal.csv</em></b> file. This file contains the reported calorie amounts for different cereal brands. Load the data from the file and save it as <b><em>calorie_stats.</em></b>\n",
    "\n"
   ]
  },
  {
   "cell_type": "code",
   "execution_count": 26,
   "metadata": {},
   "outputs": [
    {
     "data": {
      "text/plain": [
       "array([ 70., 120.,  70.,  50., 110., 110., 110., 130.,  90.,  90., 120.,\n",
       "       110., 120., 110., 110., 110., 100., 110., 110., 110., 100., 110.,\n",
       "       100., 100., 110., 110., 100., 120., 120., 110., 100., 110., 100.,\n",
       "       110., 120., 120., 110., 110., 110., 140., 110., 100., 110., 100.,\n",
       "       150., 150., 160., 100., 120., 140.,  90., 130., 120., 100.,  50.,\n",
       "        50., 100., 100., 120., 100.,  90., 110., 110.,  80.,  90.,  90.,\n",
       "       110., 110.,  90., 110., 140., 100., 110., 110., 100., 100., 110.])"
      ]
     },
     "execution_count": 26,
     "metadata": {},
     "output_type": "execute_result"
    }
   ],
   "source": [
    "# your code goes here\n",
    "\n",
    "calorie_stats = np.genfromtxt('cereal.csv', delimiter=',')\n",
    "\n",
    "calorie_stats"
   ]
  },
  {
   "cell_type": "markdown",
   "metadata": {},
   "source": [
    "3.There are <em>60 calories per serving of CrunchieMunchies</em>. How much <b>higher</b> is the <b>average calorie count</b> of your competition?\n",
    "\n",
    "Save the answer to the variable <b>average_calories</b> and print the variable to the terminal to see the answer.\n"
   ]
  },
  {
   "cell_type": "code",
   "execution_count": 87,
   "metadata": {},
   "outputs": [
    {
     "data": {
      "text/plain": [
       "109.1891891891892"
      ]
     },
     "execution_count": 87,
     "metadata": {},
     "output_type": "execute_result"
    }
   ],
   "source": [
    "# your code goes here\n",
    "\n",
    "average_calories = np.mean(calorie_stats[calorie_stats>60])\n",
    "\n",
    "average_calories"
   ]
  },
  {
   "cell_type": "markdown",
   "metadata": {},
   "source": [
    "4.Does the <b>average calorie count</b> adequately reflect the distribution of the dataset? Let’s sort the data and see.\n",
    "\n",
    "<b><em>Sort</em></b> the data and save the result to the variable <b>calorie_stats_sorted</b>. Print the sorted data to the terminal.\n"
   ]
  },
  {
   "cell_type": "code",
   "execution_count": 54,
   "metadata": {},
   "outputs": [
    {
     "data": {
      "text/plain": [
       "array([ 50.,  50.,  50.,  70.,  70.,  80.,  90.,  90.,  90.,  90.,  90.,\n",
       "        90.,  90., 100., 100., 100., 100., 100., 100., 100., 100., 100.,\n",
       "       100., 100., 100., 100., 100., 100., 100., 100., 110., 110., 110.,\n",
       "       110., 110., 110., 110., 110., 110., 110., 110., 110., 110., 110.,\n",
       "       110., 110., 110., 110., 110., 110., 110., 110., 110., 110., 110.,\n",
       "       110., 110., 110., 110., 120., 120., 120., 120., 120., 120., 120.,\n",
       "       120., 120., 120., 130., 130., 140., 140., 140., 150., 150., 160.])"
      ]
     },
     "execution_count": 54,
     "metadata": {},
     "output_type": "execute_result"
    }
   ],
   "source": [
    "# your code goes here\n",
    "\n",
    "calorie_stats_sorted = np.sort(calorie_stats)\n",
    "\n",
    "calorie_stats_sorted"
   ]
  },
  {
   "cell_type": "markdown",
   "metadata": {},
   "source": [
    "5.Do you see what I’m seeing? Looks like <b><em>the majority of the cereals are higher than the mean</em></b>. Let’s see if the <b>median</b> is a better representative of the dataset.\n",
    "\n",
    "Calculate the median of the dataset and save your answer to <b><em >median_calories</em></b>. Print the median so you can see how it compares to the mean."
   ]
  },
  {
   "cell_type": "code",
   "execution_count": 56,
   "metadata": {},
   "outputs": [
    {
     "data": {
      "text/plain": [
       "110.0"
      ]
     },
     "execution_count": 56,
     "metadata": {},
     "output_type": "execute_result"
    }
   ],
   "source": [
    "# your code goes here\n",
    "\n",
    "median_calories = np.median(calorie_stats_sorted)\n",
    "\n",
    "median_calories"
   ]
  },
  {
   "cell_type": "markdown",
   "metadata": {},
   "source": [
    "6.While the median demonstrates that <b><em><q>at least half of our values are over 100 calories</q></em></b>, it would be more impressive to show that a significant portion of the competition has a higher calorie count that CrunchieMunchies.\n",
    "\n",
    "<b>Calculate different percentiles</b> and print them to the terminal until you find the lowest percentile that is greater than 60 calories. Save this value to the variable <b>nth_percentile</b>.\n"
   ]
  },
  {
   "cell_type": "code",
   "execution_count": 84,
   "metadata": {},
   "outputs": [
    {
     "name": "stdout",
     "output_type": "stream",
     "text": [
      "3rd Percentile:  55.599999999999994\n",
      "===================================\n",
      "4th Percentile:  70.0\n",
      "=====================\n",
      "5th Percentile:  70.0\n",
      "=====================\n",
      "6th Percentile:  75.6\n",
      "=====================\n",
      "7th Percentile:  83.2\n",
      "=====================\n",
      "8th Percentile:  90.0\n",
      "=====================\n",
      "9th Percentile:  90.0\n",
      "=====================\n"
     ]
    }
   ],
   "source": [
    "# your code goes here\n",
    "\n",
    "three_percentile = np.percentile(calorie_stats, 3)\n",
    "print(\"3rd Percentile: \", three_percentile)\n",
    "print(\"===================================\")\n",
    "\n",
    "forth_percentile = np.percentile(calorie_stats, 4)\n",
    "print(\"4th Percentile: \", forth_percentile)\n",
    "print(\"=====================\")\n",
    "\n",
    "fifth_percentile = np.percentile(calorie_stats, 5)\n",
    "print(\"5th Percentile: \", fifth_percentile)\n",
    "print(\"=====================\")\n",
    "\n",
    "sixth_percentile = np.percentile(calorie_stats, 6)\n",
    "print(\"6th Percentile: \", sixth_percentile)\n",
    "print(\"=====================\")\n",
    "\n",
    "seventh_percentile = np.percentile(calorie_stats, 7)\n",
    "print(\"7th Percentile: \", seventh_percentile)\n",
    "print(\"=====================\")\n",
    "\n",
    "eigth_percentile = np.percentile(calorie_stats, 8)\n",
    "print(\"8th Percentile: \", eigth_percentile)\n",
    "print(\"=====================\")\n",
    "\n",
    "nine_percentile = np.percentile(calorie_stats, 9)\n",
    "print(\"9th Percentile: \", nine_percentile)\n",
    "print(\"=====================\")"
   ]
  },
  {
   "cell_type": "markdown",
   "metadata": {},
   "source": [
    "7.While the percentile shows us that<b><em><q>the majority of the competition has a much higher calorie count</q></em></b>, it’s an awkward concept to use in marketing materials.\n",
    "\n",
    "Instead, let’s calculate the percentage of cereals that <b><em><q>have more than 60 calories per serving</q></em></b>. Save your answer to the variable <b><em>more_calories</em></b> and print it to the terminal"
   ]
  },
  {
   "cell_type": "code",
   "execution_count": 90,
   "metadata": {},
   "outputs": [
    {
     "data": {
      "text/plain": [
       "96.1038961038961"
      ]
     },
     "execution_count": 90,
     "metadata": {},
     "output_type": "execute_result"
    }
   ],
   "source": [
    "# your code goes here\n",
    "\n",
    "more_calories = np.mean(calorie_stats>60) * 100\n",
    "\n",
    "more_calories"
   ]
  },
  {
   "cell_type": "markdown",
   "metadata": {},
   "source": [
    "8.Wow! That’s a really high percentage. That’s going to be very useful when we promote CrunchieMunchies. But one question is, <b><em>how much variation exists in the dataset? </b></em></q>Can we make the generalization that most cereals have around 100 calories or is the spread even greater?\n",
    "\n",
    "Calculate the amount of variation by finding the <b><em>standard deviation</em</b> Save your answer to <b><em>calorie_std</em></b> and print to the terminal. How can we incorporate this value into our analysis?"
   ]
  },
  {
   "cell_type": "code",
   "execution_count": 102,
   "metadata": {},
   "outputs": [
    {
     "name": "stdout",
     "output_type": "stream",
     "text": [
      "The Standard Deviation is:  19.35718533390827 , which means the average distance between the values of the data in the set and the mean.\n"
     ]
    }
   ],
   "source": [
    "# your code goes here\n",
    "\n",
    "calorie_std = np.std(calorie_stats)\n",
    "\n",
    "print(\"The Standard Deviation is: \", calorie_std, \", which means the average distance between the values of the data in the set and the mean.\")"
   ]
  },
  {
   "cell_type": "markdown",
   "metadata": {},
   "source": [
    "9.Write a short paragraph that sums up your findings and how you think this data could be used to \n",
    "<b>myCorp’s</b> advantage when marketing CrunchieMunchies.\n"
   ]
  },
  {
   "cell_type": "code",
   "execution_count": 116,
   "metadata": {},
   "outputs": [
    {
     "name": "stdout",
     "output_type": "stream",
     "text": [
      "Summary to develope a new cereal called 'CrunchieMunchies'\n",
      "==========================================================\n",
      "Average calorie count is:  109.1891891891892 which means the majority of the cereals are higher than the mean.\n",
      "While Median is:  110.0 that at least half of our values are over 100 calories.\n",
      "The percentage of cereals that have more than 60 calories per serving is:  96.1038961038961 %\n",
      "The Standard Deviation of cereals is:  19.35718533390827 which is showing the variation exist in the dataset.\n",
      "--------------------------------------------------------------------------------------------------------------\n",
      "The above mentioned figures showed that how healthy our cereal is in comparison to other leading brands, so we can demonstrate the final nutritional data to consumer.\n"
     ]
    }
   ],
   "source": [
    "print (\"Summary to develope a new cereal called 'CrunchieMunchies'\")\n",
    "print (\"==========================================================\")\n",
    "\n",
    "print (\"Average calorie count is: \", average_calories, \"which means the majority of the cereals are higher than the mean.\")\n",
    "print(\"While Median is: \", median_calories, \"that at least half of our values are over 100 calories.\")\n",
    "print(\"The percentage of cereals that have more than 60 calories per serving is: \", more_calories, \"%\")\n",
    "print(\"The Standard Deviation of cereals is: \", calorie_std, \"which is showing the variation exist in the dataset.\")\n",
    "\n",
    "print (\"--------------------------------------------------------------------------------------------------------------\")\n",
    "print(\"The above mentioned figures showed that how healthy our cereal is in comparison to other leading brands, so we can demonstrate the final nutritional data to consumer.\")"
   ]
  }
 ],
 "metadata": {
  "kernelspec": {
   "display_name": "Python 3",
   "language": "python",
   "name": "python3"
  },
  "language_info": {
   "codemirror_mode": {
    "name": "ipython",
    "version": 3
   },
   "file_extension": ".py",
   "mimetype": "text/x-python",
   "name": "python",
   "nbconvert_exporter": "python",
   "pygments_lexer": "ipython3",
   "version": "3.7.6"
  }
 },
 "nbformat": 4,
 "nbformat_minor": 2
}
